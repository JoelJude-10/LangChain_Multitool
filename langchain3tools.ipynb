{
 "cells": [
  {
   "cell_type": "code",
   "execution_count": 104,
   "metadata": {},
   "outputs": [],
   "source": [
    "import os\n",
    "os.environ['COHERE_API_KEY'] = \"AQWILHeT6TLrmqR94NrY4xDqAZSwUp1MmjsSPqV8\""
   ]
  },
  {
   "cell_type": "code",
   "execution_count": 6,
   "metadata": {},
   "outputs": [
    {
     "name": "stdout",
     "output_type": "stream",
     "text": [
      "Requirement already satisfied: langchain_cohere in d:\\anaconda\\envs\\igyou\\lib\\site-packages (0.1.8)\n",
      "Requirement already satisfied: cohere<6.0,>=5.5.6 in d:\\anaconda\\envs\\igyou\\lib\\site-packages (from langchain_cohere) (5.5.8)\n",
      "Requirement already satisfied: langchain-core<0.3,>=0.2.0 in d:\\anaconda\\envs\\igyou\\lib\\site-packages (from langchain_cohere) (0.2.9)\n",
      "Requirement already satisfied: boto3<2.0.0,>=1.34.0 in d:\\anaconda\\envs\\igyou\\lib\\site-packages (from cohere<6.0,>=5.5.6->langchain_cohere) (1.34.130)\n",
      "Requirement already satisfied: fastavro<2.0.0,>=1.9.4 in d:\\anaconda\\envs\\igyou\\lib\\site-packages (from cohere<6.0,>=5.5.6->langchain_cohere) (1.9.4)\n",
      "Requirement already satisfied: httpx>=0.21.2 in d:\\anaconda\\envs\\igyou\\lib\\site-packages (from cohere<6.0,>=5.5.6->langchain_cohere) (0.27.0)\n",
      "Requirement already satisfied: httpx-sse<0.5.0,>=0.4.0 in d:\\anaconda\\envs\\igyou\\lib\\site-packages (from cohere<6.0,>=5.5.6->langchain_cohere) (0.4.0)\n",
      "Requirement already satisfied: parameterized<0.10.0,>=0.9.0 in d:\\anaconda\\envs\\igyou\\lib\\site-packages (from cohere<6.0,>=5.5.6->langchain_cohere) (0.9.0)\n",
      "Requirement already satisfied: pydantic>=1.9.2 in d:\\anaconda\\envs\\igyou\\lib\\site-packages (from cohere<6.0,>=5.5.6->langchain_cohere) (2.7.4)\n",
      "Requirement already satisfied: requests<3.0.0,>=2.0.0 in d:\\anaconda\\envs\\igyou\\lib\\site-packages (from cohere<6.0,>=5.5.6->langchain_cohere) (2.32.3)\n",
      "Requirement already satisfied: tokenizers<1,>=0.15 in d:\\anaconda\\envs\\igyou\\lib\\site-packages (from cohere<6.0,>=5.5.6->langchain_cohere) (0.19.1)\n",
      "Requirement already satisfied: types-requests<3.0.0,>=2.0.0 in d:\\anaconda\\envs\\igyou\\lib\\site-packages (from cohere<6.0,>=5.5.6->langchain_cohere) (2.32.0.20240602)\n",
      "Requirement already satisfied: typing_extensions>=4.0.0 in d:\\anaconda\\envs\\igyou\\lib\\site-packages (from cohere<6.0,>=5.5.6->langchain_cohere) (4.12.2)\n",
      "Requirement already satisfied: PyYAML>=5.3 in d:\\anaconda\\envs\\igyou\\lib\\site-packages (from langchain-core<0.3,>=0.2.0->langchain_cohere) (6.0.1)\n",
      "Requirement already satisfied: jsonpatch<2.0,>=1.33 in d:\\anaconda\\envs\\igyou\\lib\\site-packages (from langchain-core<0.3,>=0.2.0->langchain_cohere) (1.33)\n",
      "Requirement already satisfied: langsmith<0.2.0,>=0.1.75 in d:\\anaconda\\envs\\igyou\\lib\\site-packages (from langchain-core<0.3,>=0.2.0->langchain_cohere) (0.1.81)\n",
      "Requirement already satisfied: packaging<25,>=23.2 in d:\\anaconda\\envs\\igyou\\lib\\site-packages (from langchain-core<0.3,>=0.2.0->langchain_cohere) (24.1)\n",
      "Requirement already satisfied: tenacity!=8.4.0,<9.0.0,>=8.1.0 in d:\\anaconda\\envs\\igyou\\lib\\site-packages (from langchain-core<0.3,>=0.2.0->langchain_cohere) (8.4.1)\n",
      "Requirement already satisfied: botocore<1.35.0,>=1.34.130 in d:\\anaconda\\envs\\igyou\\lib\\site-packages (from boto3<2.0.0,>=1.34.0->cohere<6.0,>=5.5.6->langchain_cohere) (1.34.130)\n",
      "Requirement already satisfied: jmespath<2.0.0,>=0.7.1 in d:\\anaconda\\envs\\igyou\\lib\\site-packages (from boto3<2.0.0,>=1.34.0->cohere<6.0,>=5.5.6->langchain_cohere) (1.0.1)\n",
      "Requirement already satisfied: s3transfer<0.11.0,>=0.10.0 in d:\\anaconda\\envs\\igyou\\lib\\site-packages (from boto3<2.0.0,>=1.34.0->cohere<6.0,>=5.5.6->langchain_cohere) (0.10.1)\n",
      "Requirement already satisfied: anyio in d:\\anaconda\\envs\\igyou\\lib\\site-packages (from httpx>=0.21.2->cohere<6.0,>=5.5.6->langchain_cohere) (4.4.0)\n",
      "Requirement already satisfied: certifi in d:\\anaconda\\envs\\igyou\\lib\\site-packages (from httpx>=0.21.2->cohere<6.0,>=5.5.6->langchain_cohere) (2024.6.2)\n",
      "Requirement already satisfied: httpcore==1.* in d:\\anaconda\\envs\\igyou\\lib\\site-packages (from httpx>=0.21.2->cohere<6.0,>=5.5.6->langchain_cohere) (1.0.5)\n",
      "Requirement already satisfied: idna in d:\\anaconda\\envs\\igyou\\lib\\site-packages (from httpx>=0.21.2->cohere<6.0,>=5.5.6->langchain_cohere) (3.7)\n",
      "Requirement already satisfied: sniffio in d:\\anaconda\\envs\\igyou\\lib\\site-packages (from httpx>=0.21.2->cohere<6.0,>=5.5.6->langchain_cohere) (1.3.1)\n",
      "Requirement already satisfied: h11<0.15,>=0.13 in d:\\anaconda\\envs\\igyou\\lib\\site-packages (from httpcore==1.*->httpx>=0.21.2->cohere<6.0,>=5.5.6->langchain_cohere) (0.14.0)\n",
      "Requirement already satisfied: jsonpointer>=1.9 in d:\\anaconda\\envs\\igyou\\lib\\site-packages (from jsonpatch<2.0,>=1.33->langchain-core<0.3,>=0.2.0->langchain_cohere) (3.0.0)\n",
      "Requirement already satisfied: orjson<4.0.0,>=3.9.14 in d:\\anaconda\\envs\\igyou\\lib\\site-packages (from langsmith<0.2.0,>=0.1.75->langchain-core<0.3,>=0.2.0->langchain_cohere) (3.10.5)\n",
      "Requirement already satisfied: annotated-types>=0.4.0 in d:\\anaconda\\envs\\igyou\\lib\\site-packages (from pydantic>=1.9.2->cohere<6.0,>=5.5.6->langchain_cohere) (0.7.0)\n",
      "Requirement already satisfied: pydantic-core==2.18.4 in d:\\anaconda\\envs\\igyou\\lib\\site-packages (from pydantic>=1.9.2->cohere<6.0,>=5.5.6->langchain_cohere) (2.18.4)\n",
      "Requirement already satisfied: charset-normalizer<4,>=2 in d:\\anaconda\\envs\\igyou\\lib\\site-packages (from requests<3.0.0,>=2.0.0->cohere<6.0,>=5.5.6->langchain_cohere) (3.3.2)\n",
      "Requirement already satisfied: urllib3<3,>=1.21.1 in d:\\anaconda\\envs\\igyou\\lib\\site-packages (from requests<3.0.0,>=2.0.0->cohere<6.0,>=5.5.6->langchain_cohere) (2.2.2)\n",
      "Requirement already satisfied: huggingface-hub<1.0,>=0.16.4 in d:\\anaconda\\envs\\igyou\\lib\\site-packages (from tokenizers<1,>=0.15->cohere<6.0,>=5.5.6->langchain_cohere) (0.23.4)\n",
      "Requirement already satisfied: python-dateutil<3.0.0,>=2.1 in d:\\anaconda\\envs\\igyou\\lib\\site-packages (from botocore<1.35.0,>=1.34.130->boto3<2.0.0,>=1.34.0->cohere<6.0,>=5.5.6->langchain_cohere) (2.9.0)\n",
      "Requirement already satisfied: filelock in d:\\anaconda\\envs\\igyou\\lib\\site-packages (from huggingface-hub<1.0,>=0.16.4->tokenizers<1,>=0.15->cohere<6.0,>=5.5.6->langchain_cohere) (3.15.3)\n",
      "Requirement already satisfied: fsspec>=2023.5.0 in d:\\anaconda\\envs\\igyou\\lib\\site-packages (from huggingface-hub<1.0,>=0.16.4->tokenizers<1,>=0.15->cohere<6.0,>=5.5.6->langchain_cohere) (2024.6.0)\n",
      "Requirement already satisfied: tqdm>=4.42.1 in d:\\anaconda\\envs\\igyou\\lib\\site-packages (from huggingface-hub<1.0,>=0.16.4->tokenizers<1,>=0.15->cohere<6.0,>=5.5.6->langchain_cohere) (4.66.4)\n",
      "Requirement already satisfied: exceptiongroup>=1.0.2 in d:\\anaconda\\envs\\igyou\\lib\\site-packages (from anyio->httpx>=0.21.2->cohere<6.0,>=5.5.6->langchain_cohere) (1.2.0)\n",
      "Requirement already satisfied: six>=1.5 in d:\\anaconda\\envs\\igyou\\lib\\site-packages (from python-dateutil<3.0.0,>=2.1->botocore<1.35.0,>=1.34.130->boto3<2.0.0,>=1.34.0->cohere<6.0,>=5.5.6->langchain_cohere) (1.16.0)\n",
      "Requirement already satisfied: colorama in d:\\anaconda\\envs\\igyou\\lib\\site-packages (from tqdm>=4.42.1->huggingface-hub<1.0,>=0.16.4->tokenizers<1,>=0.15->cohere<6.0,>=5.5.6->langchain_cohere) (0.4.6)\n",
      "Collecting langchain_community\n",
      "  Using cached langchain_community-0.2.5-py3-none-any.whl.metadata (2.5 kB)\n",
      "Requirement already satisfied: PyYAML>=5.3 in d:\\anaconda\\envs\\igyou\\lib\\site-packages (from langchain_community) (6.0.1)\n",
      "Collecting SQLAlchemy<3,>=1.4 (from langchain_community)\n",
      "  Using cached SQLAlchemy-2.0.31-cp310-cp310-win_amd64.whl.metadata (9.9 kB)\n",
      "Collecting aiohttp<4.0.0,>=3.8.3 (from langchain_community)\n",
      "  Using cached aiohttp-3.9.5-cp310-cp310-win_amd64.whl.metadata (7.7 kB)\n",
      "Collecting dataclasses-json<0.7,>=0.5.7 (from langchain_community)\n",
      "  Using cached dataclasses_json-0.6.7-py3-none-any.whl.metadata (25 kB)\n",
      "Collecting langchain<0.3.0,>=0.2.5 (from langchain_community)\n",
      "  Using cached langchain-0.2.5-py3-none-any.whl.metadata (7.0 kB)\n",
      "Requirement already satisfied: langchain-core<0.3.0,>=0.2.7 in d:\\anaconda\\envs\\igyou\\lib\\site-packages (from langchain_community) (0.2.9)\n",
      "Requirement already satisfied: langsmith<0.2.0,>=0.1.0 in d:\\anaconda\\envs\\igyou\\lib\\site-packages (from langchain_community) (0.1.81)\n",
      "Collecting numpy<2,>=1 (from langchain_community)\n",
      "  Using cached numpy-1.26.4-cp310-cp310-win_amd64.whl.metadata (61 kB)\n",
      "Requirement already satisfied: requests<3,>=2 in d:\\anaconda\\envs\\igyou\\lib\\site-packages (from langchain_community) (2.32.3)\n",
      "Requirement already satisfied: tenacity<9.0.0,>=8.1.0 in d:\\anaconda\\envs\\igyou\\lib\\site-packages (from langchain_community) (8.4.1)\n",
      "Collecting aiosignal>=1.1.2 (from aiohttp<4.0.0,>=3.8.3->langchain_community)\n",
      "  Using cached aiosignal-1.3.1-py3-none-any.whl.metadata (4.0 kB)\n",
      "Collecting attrs>=17.3.0 (from aiohttp<4.0.0,>=3.8.3->langchain_community)\n",
      "  Using cached attrs-23.2.0-py3-none-any.whl.metadata (9.5 kB)\n",
      "Collecting frozenlist>=1.1.1 (from aiohttp<4.0.0,>=3.8.3->langchain_community)\n",
      "  Using cached frozenlist-1.4.1-cp310-cp310-win_amd64.whl.metadata (12 kB)\n",
      "Collecting multidict<7.0,>=4.5 (from aiohttp<4.0.0,>=3.8.3->langchain_community)\n",
      "  Using cached multidict-6.0.5-cp310-cp310-win_amd64.whl.metadata (4.3 kB)\n",
      "Collecting yarl<2.0,>=1.0 (from aiohttp<4.0.0,>=3.8.3->langchain_community)\n",
      "  Using cached yarl-1.9.4-cp310-cp310-win_amd64.whl.metadata (32 kB)\n",
      "Collecting async-timeout<5.0,>=4.0 (from aiohttp<4.0.0,>=3.8.3->langchain_community)\n",
      "  Using cached async_timeout-4.0.3-py3-none-any.whl.metadata (4.2 kB)\n",
      "Collecting marshmallow<4.0.0,>=3.18.0 (from dataclasses-json<0.7,>=0.5.7->langchain_community)\n",
      "  Using cached marshmallow-3.21.3-py3-none-any.whl.metadata (7.1 kB)\n",
      "Collecting typing-inspect<1,>=0.4.0 (from dataclasses-json<0.7,>=0.5.7->langchain_community)\n",
      "  Using cached typing_inspect-0.9.0-py3-none-any.whl.metadata (1.5 kB)\n",
      "Collecting langchain-text-splitters<0.3.0,>=0.2.0 (from langchain<0.3.0,>=0.2.5->langchain_community)\n",
      "  Using cached langchain_text_splitters-0.2.1-py3-none-any.whl.metadata (2.2 kB)\n",
      "Requirement already satisfied: pydantic<3,>=1 in d:\\anaconda\\envs\\igyou\\lib\\site-packages (from langchain<0.3.0,>=0.2.5->langchain_community) (2.7.4)\n",
      "Requirement already satisfied: jsonpatch<2.0,>=1.33 in d:\\anaconda\\envs\\igyou\\lib\\site-packages (from langchain-core<0.3.0,>=0.2.7->langchain_community) (1.33)\n",
      "Requirement already satisfied: packaging<25,>=23.2 in d:\\anaconda\\envs\\igyou\\lib\\site-packages (from langchain-core<0.3.0,>=0.2.7->langchain_community) (24.1)\n",
      "Requirement already satisfied: orjson<4.0.0,>=3.9.14 in d:\\anaconda\\envs\\igyou\\lib\\site-packages (from langsmith<0.2.0,>=0.1.0->langchain_community) (3.10.5)\n",
      "Requirement already satisfied: charset-normalizer<4,>=2 in d:\\anaconda\\envs\\igyou\\lib\\site-packages (from requests<3,>=2->langchain_community) (3.3.2)\n",
      "Requirement already satisfied: idna<4,>=2.5 in d:\\anaconda\\envs\\igyou\\lib\\site-packages (from requests<3,>=2->langchain_community) (3.7)\n",
      "Requirement already satisfied: urllib3<3,>=1.21.1 in d:\\anaconda\\envs\\igyou\\lib\\site-packages (from requests<3,>=2->langchain_community) (2.2.2)\n",
      "Requirement already satisfied: certifi>=2017.4.17 in d:\\anaconda\\envs\\igyou\\lib\\site-packages (from requests<3,>=2->langchain_community) (2024.6.2)\n",
      "Requirement already satisfied: typing-extensions>=4.6.0 in d:\\anaconda\\envs\\igyou\\lib\\site-packages (from SQLAlchemy<3,>=1.4->langchain_community) (4.12.2)\n",
      "Collecting greenlet!=0.4.17 (from SQLAlchemy<3,>=1.4->langchain_community)\n",
      "  Using cached greenlet-3.0.3-cp310-cp310-win_amd64.whl.metadata (3.9 kB)\n",
      "Requirement already satisfied: jsonpointer>=1.9 in d:\\anaconda\\envs\\igyou\\lib\\site-packages (from jsonpatch<2.0,>=1.33->langchain-core<0.3.0,>=0.2.7->langchain_community) (3.0.0)\n",
      "Requirement already satisfied: annotated-types>=0.4.0 in d:\\anaconda\\envs\\igyou\\lib\\site-packages (from pydantic<3,>=1->langchain<0.3.0,>=0.2.5->langchain_community) (0.7.0)\n",
      "Requirement already satisfied: pydantic-core==2.18.4 in d:\\anaconda\\envs\\igyou\\lib\\site-packages (from pydantic<3,>=1->langchain<0.3.0,>=0.2.5->langchain_community) (2.18.4)\n",
      "Collecting mypy-extensions>=0.3.0 (from typing-inspect<1,>=0.4.0->dataclasses-json<0.7,>=0.5.7->langchain_community)\n",
      "  Using cached mypy_extensions-1.0.0-py3-none-any.whl.metadata (1.1 kB)\n",
      "Using cached langchain_community-0.2.5-py3-none-any.whl (2.2 MB)\n",
      "Using cached aiohttp-3.9.5-cp310-cp310-win_amd64.whl (370 kB)\n",
      "Using cached dataclasses_json-0.6.7-py3-none-any.whl (28 kB)\n",
      "Using cached langchain-0.2.5-py3-none-any.whl (974 kB)\n",
      "Using cached numpy-1.26.4-cp310-cp310-win_amd64.whl (15.8 MB)\n",
      "Using cached SQLAlchemy-2.0.31-cp310-cp310-win_amd64.whl (2.1 MB)\n",
      "Using cached aiosignal-1.3.1-py3-none-any.whl (7.6 kB)\n",
      "Using cached async_timeout-4.0.3-py3-none-any.whl (5.7 kB)\n",
      "Using cached attrs-23.2.0-py3-none-any.whl (60 kB)\n",
      "Using cached frozenlist-1.4.1-cp310-cp310-win_amd64.whl (50 kB)\n",
      "Using cached greenlet-3.0.3-cp310-cp310-win_amd64.whl (292 kB)\n",
      "Using cached langchain_text_splitters-0.2.1-py3-none-any.whl (23 kB)\n",
      "Using cached marshmallow-3.21.3-py3-none-any.whl (49 kB)\n",
      "Using cached multidict-6.0.5-cp310-cp310-win_amd64.whl (28 kB)\n",
      "Using cached typing_inspect-0.9.0-py3-none-any.whl (8.8 kB)\n",
      "Using cached yarl-1.9.4-cp310-cp310-win_amd64.whl (76 kB)\n",
      "Using cached mypy_extensions-1.0.0-py3-none-any.whl (4.7 kB)\n",
      "Installing collected packages: numpy, mypy-extensions, multidict, marshmallow, greenlet, frozenlist, attrs, async-timeout, yarl, typing-inspect, SQLAlchemy, aiosignal, dataclasses-json, aiohttp, langchain-text-splitters, langchain, langchain_community\n",
      "Successfully installed SQLAlchemy-2.0.31 aiohttp-3.9.5 aiosignal-1.3.1 async-timeout-4.0.3 attrs-23.2.0 dataclasses-json-0.6.7 frozenlist-1.4.1 greenlet-3.0.3 langchain-0.2.5 langchain-text-splitters-0.2.1 langchain_community-0.2.5 marshmallow-3.21.3 multidict-6.0.5 mypy-extensions-1.0.0 numpy-1.26.4 typing-inspect-0.9.0 yarl-1.9.4\n"
     ]
    }
   ],
   "source": [
    "!pip install langchain_cohere\n",
    "!pip install langchain_community"
   ]
  },
  {
   "cell_type": "code",
   "execution_count": 105,
   "metadata": {},
   "outputs": [],
   "source": [
    "from langchain_cohere.chat_models import ChatCohere\n",
    "chat = ChatCohere(model=\"command-r-plus\", temperature=0.3)"
   ]
  },
  {
   "cell_type": "code",
   "execution_count": 106,
   "metadata": {},
   "outputs": [],
   "source": [
    "from langchain_community.tools.tavily_search import TavilySearchResults\n",
    "\n",
    "os.environ['TAVILY_API_KEY'] = \"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\"\n",
    "\n",
    "internet_search = TavilySearchResults()\n",
    "internet_search.name = \"internet_search\"\n",
    "internet_search.description = \"Returns a list of relevant document snippets for a textual query retrieved from the internet.\"\n",
    "\n",
    "\n",
    "from langchain_core.pydantic_v1 import BaseModel, Field\n",
    "class TavilySearchInput(BaseModel):\n",
    "    query: str = Field(description=\"Query to search the internet with\")\n",
    "internet_search.args_schema = TavilySearchInput"
   ]
  },
  {
   "cell_type": "code",
   "execution_count": 107,
   "metadata": {},
   "outputs": [
    {
     "name": "stdout",
     "output_type": "stream",
     "text": [
      "Note: you may need to restart the kernel to use updated packages.\n"
     ]
    }
   ],
   "source": [
    "%pip install --upgrade --quiet  youtube_search"
   ]
  },
  {
   "cell_type": "code",
   "execution_count": 110,
   "metadata": {},
   "outputs": [],
   "source": [
    "from langchain_community.tools import YouTubeSearchTool"
   ]
  },
  {
   "cell_type": "code",
   "execution_count": 111,
   "metadata": {},
   "outputs": [],
   "source": [
    "tool = YouTubeSearchTool()"
   ]
  },
  {
   "cell_type": "code",
   "execution_count": 112,
   "metadata": {},
   "outputs": [
    {
     "name": "stdout",
     "output_type": "stream",
     "text": [
      "Note: you may need to restart the kernel to use updated packages.\n"
     ]
    }
   ],
   "source": [
    "%pip install --upgrade --quiet  google-search-results langchain-community"
   ]
  },
  {
   "cell_type": "code",
   "execution_count": 113,
   "metadata": {},
   "outputs": [],
   "source": [
    "import os\n",
    "\n",
    "from langchain_community.tools.google_finance import GoogleFinanceQueryRun\n",
    "from langchain_community.utilities.google_finance import GoogleFinanceAPIWrapper\n",
    "\n",
    "os.environ[\"SERPAPI_API_KEY\"] = \"b0d557ad9098b11faee2a632271e724005c5c98d7548baac1bb2d441adb77640\"\n",
    "tool1 = GoogleFinanceQueryRun(api_wrapper=GoogleFinanceAPIWrapper())"
   ]
  },
  {
   "cell_type": "code",
   "execution_count": 114,
   "metadata": {},
   "outputs": [],
   "source": [
    "from langchain.agents import AgentExecutor\n",
    "from langchain_cohere.react_multi_hop.agent import create_cohere_react_agent\n",
    "from langchain_core.prompts import ChatPromptTemplate"
   ]
  },
  {
   "cell_type": "code",
   "execution_count": 115,
   "metadata": {},
   "outputs": [],
   "source": [
    "# Create the prompt\n",
    "prompt = ChatPromptTemplate.from_template(\"{input}\")\n",
    "\n",
    "\n",
    "# Create the ReAct agent\n",
    "agent = create_cohere_react_agent(\n",
    "    llm=chat,\n",
    "    tools=[internet_search, tool,tool1],\n",
    "    prompt=prompt,\n",
    ")"
   ]
  },
  {
   "cell_type": "code",
   "execution_count": 116,
   "metadata": {},
   "outputs": [],
   "source": [
    "agent_executor = AgentExecutor(agent=agent, tools=[internet_search, tool,tool1], verbose=True)"
   ]
  },
  {
   "cell_type": "code",
   "execution_count": null,
   "metadata": {},
   "outputs": [],
   "source": [
    "who is apple CEO and apple stock price  and  youtube iphone review"
   ]
  },
  {
   "cell_type": "code",
   "execution_count": 119,
   "metadata": {},
   "outputs": [
    {
     "name": "stdout",
     "output_type": "stream",
     "text": [
      "\n",
      "\n",
      "\u001b[1m> Entering new AgentExecutor chain...\u001b[0m\n",
      "\u001b[32;1m\u001b[1;3m\n",
      "I will search for a Madan Gowri video, the Apple stock price and the President of India simultaneously.\n",
      "{'tool_name': 'youtube_search', 'parameters': {'query': 'madan gowri'}}\n",
      "\u001b[0m\u001b[33;1m\u001b[1;3m['https://www.youtube.com/watch?v=UkCPqtSHvvE&pp=ygULbWFkYW4gZ293cmk%3D', 'https://www.youtube.com/watch?v=SRZ5lbDaYCM&pp=ygULbWFkYW4gZ293cmk%3D']\u001b[0m\u001b[32;1m\u001b[1;3m\n",
      "{'tool_name': 'google_finance', 'parameters': {'query': 'apple stock price'}}\n",
      "\u001b[0m\u001b[38;5;200m\u001b[1;3m\n",
      "Query: apple stock price\n",
      "No summary information\n",
      "us: price = 38834.86, movement = Up\n",
      "europe: price = 18171.04, movement = Up\n",
      "asia: price = 38633.02, movement = Up\n",
      "\u001b[0m\u001b[32;1m\u001b[1;3m\n",
      "{'tool_name': 'internet_search', 'parameters': {'query': 'president of india'}}\n",
      "\u001b[0m\u001b[36;1m\u001b[1;3m[{'url': 'https://en.wikipedia.org/wiki/President_of_India', 'content': 'Although Indian presidential elections involve actual voting by MPs and MLAs, they tend to vote for the candidate supported by their respective parties.[49]\\nOath or affirmation\\nThe president is required to make and subscribe in the presence of the Chief Justice of India—or in their absence, the senior-most judge of the supreme court—an oath or affirmation to protect, preserve and defend the constitution as follows:[50]\\nI, (name), do swear in the name of God (or solemnly affirm) that I will faithfully execute the office of President (or discharge the functions of the President) of the Republic of India, and will to the best of my ability preserve, protect and defend the Constitution and the law, and that I will devote myself to the service and well-being of the people of the Republic of India.\\n The Supreme Court can remove the president for the electoral malpractices or upon being not eligible to be a member of the Lok Sabha under the Representation of the People Act, 1951.[56] Subject to Article 71 (3), parliament made applicable rules/procedure to petition the supreme court for resolving the disputes only that arise during the election process of the president but not the doubts that arise from their unconstitutional actions/deeds or changing Indian citizenship during the tenure of the president which may violate the requisite election qualifications.[57]\\nThe president may also be removed before the expiry of the term through impeachment for violating the Constitution of India by the Parliament of India. No criminal case at least on the grounds of disrespecting constitution is lodged till now against former presidents to punish them for their unconstitutional acts; though many decisions taken during the term of a president have been declared by the supreme court as unconstitutional, mala fides, void, ultra vires, etc.[60]\\nSuccession\\nThe Office of the president falls vacant in the following scenarios:\\nArticle 65 of the Indian constitution says that the Vice-President of India will have to discharge the duties, if the office falls vacant due to any reason other than the expiry of the term.[31]:\\u200a20.10\\u200a The vice-president reverts to their office when a new president is elected and enters office. All their actions, recommendations (Article 3, Article 111, Article 274, etc.) and supervisory powers (Article 74(2), Article 78C, Article 108, Article 111, etc.) over the executive and legislative entities of India shall be used in accordance to uphold the constitution.[11] There is no bar on the actions of the president to contest in the court of law.[12]\\nLegislative powers\\nLegislative power is constitutionally vested in the Parliament of India of which the president is the head, to facilitate the lawmaking process per the constitution (Article 78, Article 86, etc.). In such an eventuality, the chief justice—or in their absence, the senior-most judge of the Supreme Court of India available—discharges the functions of the president until a newly elected president enters upon their office or a newly elected vice-president begins to act as president under Article 65 of the constitution, whichever is the earlier.[22]:\\u200a96\\u200a For example, in 1969, when President Zakir Husain died in Office, Vice-President V. V. Giri served as the acting president of India.'}, {'url': 'https://www.presidentofindia.gov.in/', 'content': 'A.P.J. Abdul Kalam\\nAvul Pakir Jainulabdeen Abdul Kalam BR was an Indian aerospace scientist and statesman…\\nShri K. R. Narayanan\\nKocheril Raman Narayanan (27 October 1920 – 9 November 2005) was an Indian statesman,…\\nDr Shankar Dayal Sharma\\nShri R Venkataraman\\nRamaswamy Venkataraman 4 December 1910 – 27 January 2009)was an Indian lawyer, Indian…\\nGiani Zail Singh\\nGiani Zail Singh born Jarnail Singh; (5 May 1916 – 25 December 1994) was an Indian…\\nShri Neelam Sanjiva Reddy\\nNeelam Sanjiva Reddy (19 May 1913 – 1 June 1996) was an Indian politician who served…\\nDr. Fakhruddin Ali Ahmed\\nFakhruddin Ali Ahmed (13 May 1905 – 11 February 1977) was an Indian lawyer and…\\nShri Varahagiri Venkata Giri\\nVarahagiri Venkata Giri (10 August 1894 – 24 June 1980) was an Indian politician and…\\nDr. Zakir Husain\\nZakir Husain Khan (8 February 1897 – 3 May 1969) known as Dr. Zakir Husain, was an…\\nDr. Sarvepalli Radhakrishnan\\nSarvepalli Radhakrishnan OM (5 September 1888 – 17 April 1975), natively…\\nDr. Rajendra Prasad\\nRajendra Prasad (3 December 1884 – 28 February 1963) was an Indian politician, lawyer…\\nShri Ram Nath Kovind\\nRam Nath Kovind is an Indian politician and lawyer who served as the 14th president of…\\nShri Pranab Mukherjee\\nPranab Mukherjee BR (11 December 1935 – 31 August 2020) was an Indian politician and A.P.J. Abdul Kalam\\nAvul Pakir Jainulabdeen Abdul Kalam BR was an Indian aerospace scientist and statesman…\\nShri K. R. Narayanan\\nKocheril Raman Narayanan (27 October 1920 – 9 November 2005) was an Indian statesman,…\\nDr Shankar Dayal Sharma\\nShri R Venkataraman\\nRamaswamy Venkataraman 4 December 1910 – 27 January 2009)was an Indian lawyer, Indian…\\nGiani Zail Singh\\nGiani Zail Singh born Jarnail Singh; (5 May 1916 – 25 December 1994) was an Indian…\\nShri Neelam Sanjiva Reddy\\nNeelam Sanjiva Reddy (19 May 1913 – 1 June 1996) was an Indian politician who served…\\nDr. Fakhruddin Ali Ahmed\\nFakhruddin Ali Ahmed (13 May 1905 – 11 February 1977) was an Indian lawyer and…\\nShri Varahagiri Venkata Giri\\nVarahagiri Venkata Giri (10 August 1894 – 24 June 1980) was an Indian politician and…\\nDr. Zakir Husain\\nZakir Husain Khan (8 February 1897 – 3 May 1969) known as Dr. Zakir Husain, was an…\\nDr. Sarvepalli Radhakrishnan\\nSarvepalli Radhakrishnan OM (5 September 1888 – 17 April 1975), natively…\\nDr. Rajendra Prasad\\nRajendra Prasad (3 December 1884 – 28 February 1963) was an Indian politician, lawyer…\\nSubscribe to Newsletter\\nSubscribe to Newsletter\\nFooter Menu\\nWebsite hosted by National Informatics Centre. no-text\\xa0 Read More\\nThe President of India, Smt Droupadi Murmu paid…\\nThe President of India, Smt Droupadi Murmu…\\nThe President of India, Smt Droupadi Murmu…\\nThe President of India, Smt Droupadi Murmu…\\nThe President of India, Smt Droupadi Murmu…\\nShri Ram Nath Kovind\\nRam Nath Kovind is an Indian politician and lawyer who served as the 14th president of…\\nShri Pranab Mukherjee\\nPranab Mukherjee BR (11 December 1935 – 31 August 2020) was an Indian politician and Facebook\\nTwitter\\nInstagram\\nYoutube\\nSmt. Devisingh Patil is an Indian politician and lawyer who served as the 12th…\\nDR.'}, {'url': 'https://en.wikipedia.org/wiki/List_of_presidents_of_India', 'content': 'Although vested with these powers by the Constitution of India, the position is largely a ceremonial one and executive powers are de facto exercised by the prime minister.[3]\\nThe president is elected by the Electoral College composed of elected members of the parliament houses, the Lok Sabha and the Rajya Sabha, and also members of the Saasana Sabha or Vidhan Sabha, the state legislative assemblies.[2] Contents\\nList of presidents of India\\nThe president of India is the head of state of the Republic of India and the Supreme Commander of the Indian Armed Forces. The colors used in the table indicate the following:\\n(Birth–Death)\\nB. D. Jatti\\nM. Hidayatullah\\nR. Venkataraman\\nBhairon Singh Shekhawat\\nM. Venkaiah Naidu\\nJagdeep Dhankhar\\nStatistics[edit]\\nRepresentation of presidents by party of candidacy\\nSee also[edit]\\nCitations[edit]\\nReferences[edit]\\nExternal links[edit] There have been 15 presidents of India since the post was established when India was declared as a republic with the adoption of the Indian constitution in 1950.[4] Apart from these fifteen, three acting presidents have also been in office for short periods of time. On 25 July 2022, Droupadi Murmu took office as the 15th president of India, becoming the second woman and the first tribal person to hold the office.[7]\\nList[edit]\\nThis list is numbered based on presidents elected after winning an Indian presidential election.'}, {'url': 'https://www.britannica.com/topic/president-of-India', 'content': \"An important leader in India's freedom struggle, Rajendra Prasad became the country's first president on January 26, 1950. The second woman—after Pratibha Patil—to become the president of India, Droupadi Murmu was sworn in on July 25, 2022. The selection process for the president of India, the qualifications required, and the procedure for ...\"}, {'url': 'https://simple.wikipedia.org/wiki/List_of_Presidents_of_India', 'content': 'President of India. Under the Constitution, of the Republic of India, the President replaced the Monarch as ceremonial head of state.The President is elected by the Electoral College for a five-year term. In the event of a vacancy the Vice-President serves as Acting President.. Status Denotes Vice-President acting as President'}]\u001b[0m\u001b[32;1m\u001b[1;3mRelevant Documents: 0,1,2,3,4,5,6\n",
      "Cited Documents: 0,1,3,4,5,6\n",
      "Answer: Here is a Madan Gowri video: https://www.youtube.com/watch?v=UkCPqtSHvvE&pp=ygULbWFkYW4gZ293cmk%3D. The Apple stock price is currently up at 38834.86 in the US, 18171.04 in Europe and 38633.02 in Asia. The current President of India is Droupadi Murmu, who is the second woman and the first tribal person to hold the office.\n",
      "Grounded answer: Here is a Madan Gowri video: <co: 0>https://www.youtube.com/watch?v=UkCPqtSHvvE&pp=ygULbWFkYW4gZ293cmk%3D</co: 0>. The Apple stock price is currently <co: 1>up</co: 1> at <co: 1>38834.86 in the US</co: 1>, <co: 1>18171.04 in Europe</co: 1> and <co: 1>38633.02 in Asia</co: 1>. The current President of India is <co: 3,4,5>Droupadi Murmu</co: 3,4,5>, who is the <co: 4,5>second woman</co: 4,5> and the <co: 4>first tribal person</co: 4> to hold the office.\u001b[0m\n",
      "\n",
      "\u001b[1m> Finished chain.\u001b[0m\n"
     ]
    },
    {
     "data": {
      "text/plain": [
       "{'input': 'need a madan gowri video and apple stock price and who is the president of india',\n",
       " 'output': 'Here is a Madan Gowri video: https://www.youtube.com/watch?v=UkCPqtSHvvE&pp=ygULbWFkYW4gZ293cmk%3D. The Apple stock price is currently up at 38834.86 in the US, 18171.04 in Europe and 38633.02 in Asia. The current President of India is Droupadi Murmu, who is the second woman and the first tribal person to hold the office.',\n",
       " 'citations': [CohereCitation(start=29, end=98, text='https://www.youtube.com/watch?v=UkCPqtSHvvE&pp=ygULbWFkYW4gZ293cmk%3D', documents=[{'output': \"['https://www.youtube.com/watch?v=UkCPqtSHvvE&pp=ygULbWFkYW4gZ293cmk%3D', 'https://www.youtube.com/watch?v=SRZ5lbDaYCM&pp=ygULbWFkYW4gZ293cmk%3D']\", 'id': 'doc_0'}], document_ids={'doc_0'}),\n",
       "  CohereCitation(start=135, end=137, text='up', documents=[{'output': '\\nQuery: apple stock price\\nNo summary information\\nus: price = 38834.86, movement = Up\\neurope: price = 18171.04, movement = Up\\nasia: price = 38633.02, movement = Up\\n', 'id': 'doc_1'}], document_ids={'doc_1'}),\n",
       "  CohereCitation(start=141, end=159, text='38834.86 in the US', documents=[{'output': '\\nQuery: apple stock price\\nNo summary information\\nus: price = 38834.86, movement = Up\\neurope: price = 18171.04, movement = Up\\nasia: price = 38633.02, movement = Up\\n', 'id': 'doc_1'}], document_ids={'doc_1'}),\n",
       "  CohereCitation(start=161, end=179, text='18171.04 in Europe', documents=[{'output': '\\nQuery: apple stock price\\nNo summary information\\nus: price = 38834.86, movement = Up\\neurope: price = 18171.04, movement = Up\\nasia: price = 38633.02, movement = Up\\n', 'id': 'doc_1'}], document_ids={'doc_1'}),\n",
       "  CohereCitation(start=184, end=200, text='38633.02 in Asia', documents=[{'output': '\\nQuery: apple stock price\\nNo summary information\\nus: price = 38834.86, movement = Up\\neurope: price = 18171.04, movement = Up\\nasia: price = 38633.02, movement = Up\\n', 'id': 'doc_1'}], document_ids={'doc_1'}),\n",
       "  CohereCitation(start=236, end=250, text='Droupadi Murmu', documents=[{'url': 'https://www.presidentofindia.gov.in/', 'content': 'A.P.J. Abdul Kalam\\nAvul Pakir Jainulabdeen Abdul Kalam BR was an Indian aerospace scientist and statesman…\\nShri K. R. Narayanan\\nKocheril Raman Narayanan (27 October 1920 – 9 November 2005) was an Indian statesman,…\\nDr Shankar Dayal Sharma\\nShri R Venkataraman\\nRamaswamy Venkataraman 4 December 1910 – 27 January 2009)was an Indian lawyer, Indian…\\nGiani Zail Singh\\nGiani Zail Singh born Jarnail Singh; (5 May 1916 – 25 December 1994) was an Indian…\\nShri Neelam Sanjiva Reddy\\nNeelam Sanjiva Reddy (19 May 1913 – 1 June 1996) was an Indian politician who served…\\nDr. Fakhruddin Ali Ahmed\\nFakhruddin Ali Ahmed (13 May 1905 – 11 February 1977) was an Indian lawyer and…\\nShri Varahagiri Venkata Giri\\nVarahagiri Venkata Giri (10 August 1894 – 24 June 1980) was an Indian politician and…\\nDr. Zakir Husain\\nZakir Husain Khan (8 February 1897 – 3 May 1969) known as Dr. Zakir Husain, was an…\\nDr. Sarvepalli Radhakrishnan\\nSarvepalli Radhakrishnan OM (5 September 1888 – 17 April 1975), natively…\\nDr. Rajendra Prasad\\nRajendra Prasad (3 December 1884 – 28 February 1963) was an Indian politician, lawyer…\\nShri Ram Nath Kovind\\nRam Nath Kovind is an Indian politician and lawyer who served as the 14th president of…\\nShri Pranab Mukherjee\\nPranab Mukherjee BR (11 December 1935 – 31 August 2020) was an Indian politician and A.P.J. Abdul Kalam\\nAvul Pakir Jainulabdeen Abdul Kalam BR was an Indian aerospace scientist and statesman…\\nShri K. R. Narayanan\\nKocheril Raman Narayanan (27 October 1920 – 9 November 2005) was an Indian statesman,…\\nDr Shankar Dayal Sharma\\nShri R Venkataraman\\nRamaswamy Venkataraman 4 December 1910 – 27 January 2009)was an Indian lawyer, Indian…\\nGiani Zail Singh\\nGiani Zail Singh born Jarnail Singh; (5 May 1916 – 25 December 1994) was an Indian…\\nShri Neelam Sanjiva Reddy\\nNeelam Sanjiva Reddy (19 May 1913 – 1 June 1996) was an Indian politician who served…\\nDr. Fakhruddin Ali Ahmed\\nFakhruddin Ali Ahmed (13 May 1905 – 11 February 1977) was an Indian lawyer and…\\nShri Varahagiri Venkata Giri\\nVarahagiri Venkata Giri (10 August 1894 – 24 June 1980) was an Indian politician and…\\nDr. Zakir Husain\\nZakir Husain Khan (8 February 1897 – 3 May 1969) known as Dr. Zakir Husain, was an…\\nDr. Sarvepalli Radhakrishnan\\nSarvepalli Radhakrishnan OM (5 September 1888 – 17 April 1975), natively…\\nDr. Rajendra Prasad\\nRajendra Prasad (3 December 1884 – 28 February 1963) was an Indian politician, lawyer…\\nSubscribe to Newsletter\\nSubscribe to Newsletter\\nFooter Menu\\nWebsite hosted by National Informatics Centre. no-text\\xa0 Read More\\nThe President of India, Smt Droupadi Murmu paid…\\nThe President of India, Smt Droupadi Murmu…\\nThe President of India, Smt Droupadi Murmu…\\nThe President of India, Smt Droupadi Murmu…\\nThe President of India, Smt Droupadi Murmu…\\nShri Ram Nath Kovind\\nRam Nath Kovind is an Indian politician and lawyer who served as the 14th president of…\\nShri Pranab Mukherjee\\nPranab Mukherjee BR (11 December 1935 – 31 August 2020) was an Indian politician and Facebook\\nTwitter\\nInstagram\\nYoutube\\nSmt. Devisingh Patil is an Indian politician and lawyer who served as the 12th…\\nDR.', 'id': 'doc_3'}, {'url': 'https://en.wikipedia.org/wiki/List_of_presidents_of_India', 'content': 'Although vested with these powers by the Constitution of India, the position is largely a ceremonial one and executive powers are de facto exercised by the prime minister.[3]\\nThe president is elected by the Electoral College composed of elected members of the parliament houses, the Lok Sabha and the Rajya Sabha, and also members of the Saasana Sabha or Vidhan Sabha, the state legislative assemblies.[2] Contents\\nList of presidents of India\\nThe president of India is the head of state of the Republic of India and the Supreme Commander of the Indian Armed Forces. The colors used in the table indicate the following:\\n(Birth–Death)\\nB. D. Jatti\\nM. Hidayatullah\\nR. Venkataraman\\nBhairon Singh Shekhawat\\nM. Venkaiah Naidu\\nJagdeep Dhankhar\\nStatistics[edit]\\nRepresentation of presidents by party of candidacy\\nSee also[edit]\\nCitations[edit]\\nReferences[edit]\\nExternal links[edit] There have been 15 presidents of India since the post was established when India was declared as a republic with the adoption of the Indian constitution in 1950.[4] Apart from these fifteen, three acting presidents have also been in office for short periods of time. On 25 July 2022, Droupadi Murmu took office as the 15th president of India, becoming the second woman and the first tribal person to hold the office.[7]\\nList[edit]\\nThis list is numbered based on presidents elected after winning an Indian presidential election.', 'id': 'doc_4'}, {'url': 'https://www.britannica.com/topic/president-of-India', 'content': \"An important leader in India's freedom struggle, Rajendra Prasad became the country's first president on January 26, 1950. The second woman—after Pratibha Patil—to become the president of India, Droupadi Murmu was sworn in on July 25, 2022. The selection process for the president of India, the qualifications required, and the procedure for ...\", 'id': 'doc_5'}], document_ids={'doc_5', 'doc_4', 'doc_3'}),\n",
       "  CohereCitation(start=263, end=275, text='second woman', documents=[{'url': 'https://en.wikipedia.org/wiki/List_of_presidents_of_India', 'content': 'Although vested with these powers by the Constitution of India, the position is largely a ceremonial one and executive powers are de facto exercised by the prime minister.[3]\\nThe president is elected by the Electoral College composed of elected members of the parliament houses, the Lok Sabha and the Rajya Sabha, and also members of the Saasana Sabha or Vidhan Sabha, the state legislative assemblies.[2] Contents\\nList of presidents of India\\nThe president of India is the head of state of the Republic of India and the Supreme Commander of the Indian Armed Forces. The colors used in the table indicate the following:\\n(Birth–Death)\\nB. D. Jatti\\nM. Hidayatullah\\nR. Venkataraman\\nBhairon Singh Shekhawat\\nM. Venkaiah Naidu\\nJagdeep Dhankhar\\nStatistics[edit]\\nRepresentation of presidents by party of candidacy\\nSee also[edit]\\nCitations[edit]\\nReferences[edit]\\nExternal links[edit] There have been 15 presidents of India since the post was established when India was declared as a republic with the adoption of the Indian constitution in 1950.[4] Apart from these fifteen, three acting presidents have also been in office for short periods of time. On 25 July 2022, Droupadi Murmu took office as the 15th president of India, becoming the second woman and the first tribal person to hold the office.[7]\\nList[edit]\\nThis list is numbered based on presidents elected after winning an Indian presidential election.', 'id': 'doc_4'}, {'url': 'https://www.britannica.com/topic/president-of-India', 'content': \"An important leader in India's freedom struggle, Rajendra Prasad became the country's first president on January 26, 1950. The second woman—after Pratibha Patil—to become the president of India, Droupadi Murmu was sworn in on July 25, 2022. The selection process for the president of India, the qualifications required, and the procedure for ...\", 'id': 'doc_5'}], document_ids={'doc_5', 'doc_4'}),\n",
       "  CohereCitation(start=284, end=303, text='first tribal person', documents=[{'url': 'https://en.wikipedia.org/wiki/List_of_presidents_of_India', 'content': 'Although vested with these powers by the Constitution of India, the position is largely a ceremonial one and executive powers are de facto exercised by the prime minister.[3]\\nThe president is elected by the Electoral College composed of elected members of the parliament houses, the Lok Sabha and the Rajya Sabha, and also members of the Saasana Sabha or Vidhan Sabha, the state legislative assemblies.[2] Contents\\nList of presidents of India\\nThe president of India is the head of state of the Republic of India and the Supreme Commander of the Indian Armed Forces. The colors used in the table indicate the following:\\n(Birth–Death)\\nB. D. Jatti\\nM. Hidayatullah\\nR. Venkataraman\\nBhairon Singh Shekhawat\\nM. Venkaiah Naidu\\nJagdeep Dhankhar\\nStatistics[edit]\\nRepresentation of presidents by party of candidacy\\nSee also[edit]\\nCitations[edit]\\nReferences[edit]\\nExternal links[edit] There have been 15 presidents of India since the post was established when India was declared as a republic with the adoption of the Indian constitution in 1950.[4] Apart from these fifteen, three acting presidents have also been in office for short periods of time. On 25 July 2022, Droupadi Murmu took office as the 15th president of India, becoming the second woman and the first tribal person to hold the office.[7]\\nList[edit]\\nThis list is numbered based on presidents elected after winning an Indian presidential election.', 'id': 'doc_4'}], document_ids={'doc_4'})]}"
      ]
     },
     "execution_count": 119,
     "metadata": {},
     "output_type": "execute_result"
    }
   ],
   "source": [
    "agent_executor.invoke({\n",
    "    \"input\": \"need a iphone 15 review video and apple stock price and who is the president of india\",\n",
    "})"
   ]
  },
  {
   "cell_type": "code",
   "execution_count": null,
   "metadata": {},
   "outputs": [],
   "source": []
  }
 ],
 "metadata": {
  "kernelspec": {
   "display_name": "igyou",
   "language": "python",
   "name": "python3"
  },
  "language_info": {
   "codemirror_mode": {
    "name": "ipython",
    "version": 3
   },
   "file_extension": ".py",
   "mimetype": "text/x-python",
   "name": "python",
   "nbconvert_exporter": "python",
   "pygments_lexer": "ipython3",
   "version": "3.9.19"
  }
 },
 "nbformat": 4,
 "nbformat_minor": 2
}
